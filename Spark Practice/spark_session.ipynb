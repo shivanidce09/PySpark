{
 "cells": [
  {
   "cell_type": "code",
   "execution_count": 1,
   "id": "0bc177e2",
   "metadata": {},
   "outputs": [],
   "source": [
    "import findspark\n",
    "findspark.init()\n",
    "\n",
    "import pyspark"
   ]
  },
  {
   "cell_type": "code",
   "execution_count": 2,
   "id": "5e9490eb",
   "metadata": {},
   "outputs": [],
   "source": [
    "import pyspark"
   ]
  },
  {
   "cell_type": "code",
   "execution_count": null,
   "id": "8492d20f",
   "metadata": {},
   "outputs": [],
   "source": [
    "from pyspark.sql import SparkSession"
   ]
  },
  {
   "cell_type": "code",
   "execution_count": 8,
   "id": "08723ec1",
   "metadata": {},
   "outputs": [
    {
     "data": {
      "text/html": [
       "\n",
       "            <div>\n",
       "                <p><b>SparkSession - in-memory</b></p>\n",
       "                \n",
       "        <div>\n",
       "            <p><b>SparkContext</b></p>\n",
       "\n",
       "            <p><a href=\"http://LAPTOP-2E44REUF:4041\">Spark UI</a></p>\n",
       "\n",
       "            <dl>\n",
       "              <dt>Version</dt>\n",
       "                <dd><code>v3.2.1</code></dd>\n",
       "              <dt>Master</dt>\n",
       "                <dd><code>local[*]</code></dd>\n",
       "              <dt>AppName</dt>\n",
       "                <dd><code>MyApp</code></dd>\n",
       "            </dl>\n",
       "        </div>\n",
       "        \n",
       "            </div>\n",
       "        "
      ],
      "text/plain": [
       "<pyspark.sql.session.SparkSession at 0x1aa7b9c60d0>"
      ]
     },
     "execution_count": 8,
     "metadata": {},
     "output_type": "execute_result"
    }
   ],
   "source": [
    "spark"
   ]
  },
  {
   "cell_type": "code",
   "execution_count": 4,
   "id": "819f50f5",
   "metadata": {},
   "outputs": [],
   "source": [
    "df = spark.read.csv('people.csv',inferSchema=True, header=True)"
   ]
  },
  {
   "cell_type": "code",
   "execution_count": 5,
   "id": "dbff7059",
   "metadata": {},
   "outputs": [
    {
     "name": "stdout",
     "output_type": "stream",
     "text": [
      "root\n",
      " |-- person_ID: integer (nullable = true)\n",
      " |-- name: string (nullable = true)\n",
      " |-- first: string (nullable = true)\n",
      " |-- last: string (nullable = true)\n",
      " |-- middle: string (nullable = true)\n",
      " |-- email: string (nullable = true)\n",
      " |-- phone: string (nullable = true)\n",
      " |-- fax: string (nullable = true)\n",
      " |-- title: string (nullable = true)\n",
      "\n"
     ]
    }
   ],
   "source": [
    "df.printSchema()"
   ]
  },
  {
   "cell_type": "code",
   "execution_count": 6,
   "id": "cf34d512",
   "metadata": {},
   "outputs": [
    {
     "name": "stdout",
     "output_type": "stream",
     "text": [
      "+---------+--------------------+---------+--------+--------+------------------+-----------------+------------+-------------------+\n",
      "|person_ID|                name|    first|    last|  middle|             email|            phone|         fax|              title|\n",
      "+---------+--------------------+---------+--------+--------+------------------+-----------------+------------+-------------------+\n",
      "|     3130|     Burks, Rosella |  Rosella|   Burks|    null|   BurksR@univ.edu|     963.555.1253|963.777.4065|         Professor |\n",
      "|     3297|      Avila, Damien |   Damien|   Avila|    null|   AvilaD@univ.edu|     963.555.1352|963.777.7914|         Professor |\n",
      "|     3547|       Olsen, Robin |    Robin|   Olsen|    null|   OlsenR@univ.edu|     963.555.1378|963.777.9262|Assistant Professor|\n",
      "|     1538| Moises, Edgar Estes|    Edgar|  Moises|   Estes|  MoisesE@univ.edu|963.555.2731x3565|963.777.8264|          Professor|\n",
      "|     2941| Brian, Heath Pruitt|    Heath|   Brian|  Pruitt|   BrianH@univ.edu|     963.555.2800|963.777.7249| Associate Curator |\n",
      "|     2401| Claude, Elvin Haney|    Elvin|  Claude|   Haney|  ClaudeE@univ.edu|     963.555.2902|963.777.9730|            Curator|\n",
      "|     2070|     Mosley, Edmund |   Edmund|  Mosley|    null|  MosleyE@univ.edu|     963.555.2945|963.777.9285|Assistant Professor|\n",
      "|     2561|Derek, Antoine Mccoy|  Antoine|   Derek|   Mccoy|   DerekA@univ.edu|     963.555.2992|963.777.5454|            Curator|\n",
      "|     1625|    Hawkins, Callie |   Callie| Hawkins|    null| HawkinsC@univ.edu|963.555.3350x6480|963.777.4949|          Professor|\n",
      "|     1307|       Pate, Andrea |   Andrea|    Pate|    null|    PateA@univ.edu|     963.555.3723|963.777.5049|          Professor|\n",
      "|     2342|        Austin, Liz |      Liz|  Austin|    null|  AustinL@univ.edu|     963.555.4305|963.777.6143|Assistant Professor|\n",
      "|     2755|Kendrick, Reba Al...|     Reba|Kendrick|  Alford|KendrickR@univ.edu|963.555.4618x7744|963.777.4371| Associate Curator |\n",
      "|     4150|     Sims, Angelina | Angelina|    Sims|    null|    SimsA@univ.edu|     963.555.5278|963.777.4400|          Professor|\n",
      "|     3544|  Mullins, Kimberly | Kimberly| Mullins|    null| MullinsK@univ.edu|963.555.5471x1017|963.777.9783|Assistant Professor|\n",
      "|     2096|  Chuck, Lloyd Haney|    Lloyd|   Chuck|   Haney|   ChuckL@univ.edu|963.555.5568x2652|963.777.9290|Assistant Professor|\n",
      "|     1089|     Payne, Ladonna |  Ladonna|   Payne|    null|   PayneL@univ.edu|     963.555.5639|963.777.6469|          Professor|\n",
      "|     2948|Baxter, Johnathan...|Johnathan|  Baxter|Browning|  BaxterJ@univ.edu|     963.555.5902|963.777.8336| Research Professor|\n",
      "|     4539|     Weiss, Gilbert |  Gilbert|   Weiss|    null|   WeissG@univ.edu|     963.555.5969|963.777.4975|          Professor|\n",
      "|     2811|Deirdre, Florence...| Florence| Deirdre| Barrera| DeirdreF@univ.edu|     963.555.6319|963.777.9654| Associate Curator |\n",
      "|     4580|Fernando, Toby Ca...|     Toby|Fernando|Calderon|FernandoT@univ.edu|     963.555.6469|963.777.9864| Research Professor|\n",
      "+---------+--------------------+---------+--------+--------+------------------+-----------------+------------+-------------------+\n",
      "only showing top 20 rows\n",
      "\n"
     ]
    }
   ],
   "source": [
    "df.show()"
   ]
  },
  {
   "cell_type": "code",
   "execution_count": null,
   "id": "d80ba136",
   "metadata": {},
   "outputs": [],
   "source": [
    "!pip install delta-spark"
   ]
  },
  {
   "cell_type": "code",
   "execution_count": 3,
   "id": "3ba43601",
   "metadata": {},
   "outputs": [],
   "source": [
    "from delta import *\n",
    "\n",
    "builder = pyspark.sql.SparkSession.builder.appName(\"MyApp\") \\\n",
    "    .config(\"spark.sql.extensions\", \"io.delta.sql.DeltaSparkSessionExtension\") \\\n",
    "    .config(\"spark.sql.catalog.spark_catalog\", \"org.apache.spark.sql.delta.catalog.DeltaCatalog\")\n",
    "\n",
    "spark = configure_spark_with_delta_pip(builder).getOrCreate()"
   ]
  },
  {
   "cell_type": "code",
   "execution_count": 7,
   "id": "006f557b",
   "metadata": {},
   "outputs": [],
   "source": [
    "df.write.format(\"delta\").save(\"/delta/1\")"
   ]
  },
  {
   "cell_type": "code",
   "execution_count": 10,
   "id": "7835f25d",
   "metadata": {},
   "outputs": [
    {
     "name": "stdout",
     "output_type": "stream",
     "text": [
      "Collecting deltalake\n",
      "  Downloading deltalake-0.5.7-cp37-abi3-win_amd64.whl (6.3 MB)\n",
      "     ---------------------------------------- 6.3/6.3 MB 3.8 MB/s eta 0:00:00\n",
      "Collecting pyarrow>=4\n",
      "  Downloading pyarrow-8.0.0-cp39-cp39-win_amd64.whl (17.9 MB)\n",
      "     ---------------------------------------- 17.9/17.9 MB 3.8 MB/s eta 0:00:00\n",
      "Requirement already satisfied: numpy>=1.16.6 in c:\\users\\91844\\appdata\\local\\programs\\python\\python39\\lib\\site-packages (from pyarrow>=4->deltalake) (1.19.5)\n",
      "Installing collected packages: pyarrow, deltalake\n",
      "Successfully installed deltalake-0.5.7 pyarrow-8.0.0\n"
     ]
    },
    {
     "name": "stderr",
     "output_type": "stream",
     "text": [
      "WARNING: You are using pip version 22.0.3; however, version 22.1.2 is available.\n",
      "You should consider upgrading via the 'C:\\Users\\91844\\AppData\\Local\\Programs\\Python\\Python39\\python.exe -m pip install --upgrade pip' command.\n"
     ]
    }
   ],
   "source": [
    "!pip install deltalake"
   ]
  },
  {
   "cell_type": "code",
   "execution_count": 11,
   "id": "97771f64",
   "metadata": {
    "scrolled": true
   },
   "outputs": [
    {
     "name": "stdout",
     "output_type": "stream",
     "text": [
      "    person_ID                        name      first      last      middle  \\\n",
      "0        3130             Burks, Rosella     Rosella     Burks        None   \n",
      "1        3297              Avila, Damien      Damien     Avila        None   \n",
      "2        3547               Olsen, Robin       Robin     Olsen        None   \n",
      "3        1538         Moises, Edgar Estes      Edgar    Moises       Estes   \n",
      "4        2941         Brian, Heath Pruitt      Heath     Brian      Pruitt   \n",
      "5        2401         Claude, Elvin Haney      Elvin    Claude       Haney   \n",
      "6        2070             Mosley, Edmund      Edmund    Mosley        None   \n",
      "7        2561        Derek, Antoine Mccoy    Antoine     Derek       Mccoy   \n",
      "8        1625            Hawkins, Callie      Callie   Hawkins        None   \n",
      "9        1307               Pate, Andrea      Andrea      Pate        None   \n",
      "10       2342                Austin, Liz         Liz    Austin        None   \n",
      "11       2755       Kendrick, Reba Alford       Reba  Kendrick      Alford   \n",
      "12       4150             Sims, Angelina    Angelina      Sims        None   \n",
      "13       3544          Mullins, Kimberly    Kimberly   Mullins        None   \n",
      "14       2096          Chuck, Lloyd Haney      Lloyd     Chuck       Haney   \n",
      "15       1089             Payne, Ladonna     Ladonna     Payne        None   \n",
      "16       2948  Baxter, Johnathan Browning  Johnathan    Baxter    Browning   \n",
      "17       4539             Weiss, Gilbert     Gilbert     Weiss        None   \n",
      "18       2811   Deirdre, Florence Barrera   Florence   Deirdre     Barrera   \n",
      "19       4580     Fernando, Toby Calderon       Toby  Fernando    Calderon   \n",
      "20       2895          Garrison, Patrica     Patrica  Garrison        None   \n",
      "21       2254         Effie, Leila Vinson      Leila     Effie      Vinson   \n",
      "22       2389              Buckley, Rose        Rose   Buckley        None   \n",
      "23       1699            Stanton, Kathie      Kathie   Stanton        None   \n",
      "24       1567             Banks, Shannon     Shannon     Banks        None   \n",
      "25       3066               Barnes, Cleo        Cleo    Barnes        None   \n",
      "26       2426              Brady, Nellie      Nellie     Brady        None   \n",
      "27       2217        Katheryn, Ruben Holt      Ruben  Katheryn        Holt   \n",
      "28       1968            Michael, Dianne      Dianne   Michael        None   \n",
      "29       3012                Grant, Adam        Adam     Grant        None   \n",
      "30       1824               Head, Kurtis      Kurtis      Head        None   \n",
      "31       3929               Berger, Jami        Jami    Berger        None   \n",
      "32       2682   Earline, Jaime Fitzgerald      Jaime   Earline  Fitzgerald   \n",
      "33       3112        Evelyn, Summer Frost     Summer    Evelyn       Frost   \n",
      "34       2303           Quentin, Sam Hyde        Sam   Quentin        Hyde   \n",
      "35       3903                Dunlap, Ann         Ann    Dunlap        None   \n",
      "36       3095          Shields, Rich Pena       Rich   Shields        Pena   \n",
      "37       2383               Page, Winnie      Winnie      Page        None   \n",
      "38       2146               Sparks, Ezra        Ezra    Sparks        None   \n",
      "39       3958              Kaufman, Elba        Elba   Kaufman        None   \n",
      "\n",
      "                 email              phone           fax                title  \n",
      "0      BurksR@univ.edu       963.555.1253  963.777.4065           Professor   \n",
      "1      AvilaD@univ.edu       963.555.1352  963.777.7914           Professor   \n",
      "2      OlsenR@univ.edu       963.555.1378  963.777.9262  Assistant Professor  \n",
      "3     MoisesE@univ.edu  963.555.2731x3565  963.777.8264            Professor  \n",
      "4      BrianH@univ.edu       963.555.2800  963.777.7249   Associate Curator   \n",
      "5     ClaudeE@univ.edu       963.555.2902  963.777.9730              Curator  \n",
      "6     MosleyE@univ.edu       963.555.2945  963.777.9285  Assistant Professor  \n",
      "7      DerekA@univ.edu       963.555.2992  963.777.5454              Curator  \n",
      "8    HawkinsC@univ.edu  963.555.3350x6480  963.777.4949            Professor  \n",
      "9       PateA@univ.edu       963.555.3723  963.777.5049            Professor  \n",
      "10    AustinL@univ.edu       963.555.4305  963.777.6143  Assistant Professor  \n",
      "11  KendrickR@univ.edu  963.555.4618x7744  963.777.4371   Associate Curator   \n",
      "12      SimsA@univ.edu       963.555.5278  963.777.4400            Professor  \n",
      "13   MullinsK@univ.edu  963.555.5471x1017  963.777.9783  Assistant Professor  \n",
      "14     ChuckL@univ.edu  963.555.5568x2652  963.777.9290  Assistant Professor  \n",
      "15     PayneL@univ.edu       963.555.5639  963.777.6469            Professor  \n",
      "16    BaxterJ@univ.edu       963.555.5902  963.777.8336   Research Professor  \n",
      "17     WeissG@univ.edu       963.555.5969  963.777.4975            Professor  \n",
      "18   DeirdreF@univ.edu       963.555.6319  963.777.9654   Associate Curator   \n",
      "19  FernandoT@univ.edu       963.555.6469  963.777.9864   Research Professor  \n",
      "20  GarrisonP@univ.edu       963.555.6760  963.777.4958   Associate Curator   \n",
      "21     EffieL@univ.edu       963.555.6824  963.777.7299  Assistant Professor  \n",
      "22   BuckleyR@univ.edu  963.555.6855x5018  963.777.5233              Curator  \n",
      "23   StantonK@univ.edu       963.555.7095  963.777.1015            Professor  \n",
      "24     BanksS@univ.edu       963.555.7198  963.777.6979            Professor  \n",
      "25    BarnesC@univ.edu  963.555.7463x7335  963.777.1583   Research Professor  \n",
      "26     BradyN@univ.edu       963.555.7569  963.777.7218              Curator  \n",
      "27  KatherynR@univ.edu       963.555.7578  963.777.3969  Assistant Professor  \n",
      "28   MichaelD@univ.edu       963.555.7592  963.777.9960  Assistant Professor  \n",
      "29     GrantA@univ.edu       963.555.7775  963.777.8115   Research Professor  \n",
      "30      HeadK@univ.edu       963.555.7882  963.777.6348            Professor  \n",
      "31    BergerJ@univ.edu       963.555.8158  963.777.5650   Research Professor  \n",
      "32   EarlineJ@univ.edu       963.555.8357  963.777.4114   Associate Curator   \n",
      "33    EvelynS@univ.edu       963.555.8895  963.777.5730           Professor   \n",
      "34   QuentinS@univ.edu       963.555.8921  963.777.2712  Assistant Professor  \n",
      "35    DunlapA@univ.edu       963.555.9067  963.777.4290  Assistant Professor  \n",
      "36   ShieldsR@univ.edu       963.555.9197  963.777.7215           Professor   \n",
      "37      PageW@univ.edu       963.555.9366  963.777.3202              Curator  \n",
      "38    SparksE@univ.edu       963.555.9390  963.777.9273  Assistant Professor  \n",
      "39   KaufmanE@univ.edu       963.555.9507  963.777.3298            Professor  \n"
     ]
    }
   ],
   "source": [
    "from deltalake import DeltaTable\n",
    "dt = DeltaTable(\"/delta/1\")\n",
    "df = dt.to_pandas()\n",
    "print(df)"
   ]
  },
  {
   "cell_type": "code",
   "execution_count": 12,
   "id": "5f610f79",
   "metadata": {},
   "outputs": [
    {
     "name": "stdout",
     "output_type": "stream",
     "text": [
      "+---------+--------------------+---------+--------+--------+------------------+-----------------+------------+-------------------+\n",
      "|person_ID|                name|    first|    last|  middle|             email|            phone|         fax|              title|\n",
      "+---------+--------------------+---------+--------+--------+------------------+-----------------+------------+-------------------+\n",
      "|     3130|     Burks, Rosella |  Rosella|   Burks|    null|   BurksR@univ.edu|     963.555.1253|963.777.4065|         Professor |\n",
      "|     3297|      Avila, Damien |   Damien|   Avila|    null|   AvilaD@univ.edu|     963.555.1352|963.777.7914|         Professor |\n",
      "|     3547|       Olsen, Robin |    Robin|   Olsen|    null|   OlsenR@univ.edu|     963.555.1378|963.777.9262|Assistant Professor|\n",
      "|     1538| Moises, Edgar Estes|    Edgar|  Moises|   Estes|  MoisesE@univ.edu|963.555.2731x3565|963.777.8264|          Professor|\n",
      "|     2941| Brian, Heath Pruitt|    Heath|   Brian|  Pruitt|   BrianH@univ.edu|     963.555.2800|963.777.7249| Associate Curator |\n",
      "|     2401| Claude, Elvin Haney|    Elvin|  Claude|   Haney|  ClaudeE@univ.edu|     963.555.2902|963.777.9730|            Curator|\n",
      "|     2070|     Mosley, Edmund |   Edmund|  Mosley|    null|  MosleyE@univ.edu|     963.555.2945|963.777.9285|Assistant Professor|\n",
      "|     2561|Derek, Antoine Mccoy|  Antoine|   Derek|   Mccoy|   DerekA@univ.edu|     963.555.2992|963.777.5454|            Curator|\n",
      "|     1625|    Hawkins, Callie |   Callie| Hawkins|    null| HawkinsC@univ.edu|963.555.3350x6480|963.777.4949|          Professor|\n",
      "|     1307|       Pate, Andrea |   Andrea|    Pate|    null|    PateA@univ.edu|     963.555.3723|963.777.5049|          Professor|\n",
      "|     2342|        Austin, Liz |      Liz|  Austin|    null|  AustinL@univ.edu|     963.555.4305|963.777.6143|Assistant Professor|\n",
      "|     2755|Kendrick, Reba Al...|     Reba|Kendrick|  Alford|KendrickR@univ.edu|963.555.4618x7744|963.777.4371| Associate Curator |\n",
      "|     4150|     Sims, Angelina | Angelina|    Sims|    null|    SimsA@univ.edu|     963.555.5278|963.777.4400|          Professor|\n",
      "|     3544|  Mullins, Kimberly | Kimberly| Mullins|    null| MullinsK@univ.edu|963.555.5471x1017|963.777.9783|Assistant Professor|\n",
      "|     2096|  Chuck, Lloyd Haney|    Lloyd|   Chuck|   Haney|   ChuckL@univ.edu|963.555.5568x2652|963.777.9290|Assistant Professor|\n",
      "|     1089|     Payne, Ladonna |  Ladonna|   Payne|    null|   PayneL@univ.edu|     963.555.5639|963.777.6469|          Professor|\n",
      "|     2948|Baxter, Johnathan...|Johnathan|  Baxter|Browning|  BaxterJ@univ.edu|     963.555.5902|963.777.8336| Research Professor|\n",
      "|     4539|     Weiss, Gilbert |  Gilbert|   Weiss|    null|   WeissG@univ.edu|     963.555.5969|963.777.4975|          Professor|\n",
      "|     2811|Deirdre, Florence...| Florence| Deirdre| Barrera| DeirdreF@univ.edu|     963.555.6319|963.777.9654| Associate Curator |\n",
      "|     4580|Fernando, Toby Ca...|     Toby|Fernando|Calderon|FernandoT@univ.edu|     963.555.6469|963.777.9864| Research Professor|\n",
      "+---------+--------------------+---------+--------+--------+------------------+-----------------+------------+-------------------+\n",
      "only showing top 20 rows\n",
      "\n"
     ]
    }
   ],
   "source": [
    "df1 = spark.read.format(\"delta\").load(\"/delta/1\")\n",
    "df1.show()"
   ]
  },
  {
   "cell_type": "code",
   "execution_count": 14,
   "id": "2888a695",
   "metadata": {},
   "outputs": [
    {
     "data": {
      "text/plain": [
       "40"
      ]
     },
     "execution_count": 14,
     "metadata": {},
     "output_type": "execute_result"
    }
   ],
   "source": [
    "df1.count()"
   ]
  },
  {
   "cell_type": "code",
   "execution_count": null,
   "id": "9e6e3914",
   "metadata": {},
   "outputs": [],
   "source": []
  }
 ],
 "metadata": {
  "kernelspec": {
   "display_name": "Python 3 (ipykernel)",
   "language": "python",
   "name": "python3"
  },
  "language_info": {
   "codemirror_mode": {
    "name": "ipython",
    "version": 3
   },
   "file_extension": ".py",
   "mimetype": "text/x-python",
   "name": "python",
   "nbconvert_exporter": "python",
   "pygments_lexer": "ipython3",
   "version": "3.9.7"
  }
 },
 "nbformat": 4,
 "nbformat_minor": 5
}
